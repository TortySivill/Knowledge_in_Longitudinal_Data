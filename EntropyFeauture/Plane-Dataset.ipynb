{
 "cells": [
  {
   "cell_type": "code",
   "execution_count": 71,
   "metadata": {},
   "outputs": [],
   "source": [
    "#analytics\n",
    "import pandas as pd\n",
    "import glob\n",
    "import numpy as np\n",
    "from sklearn.model_selection import train_test_split\n",
    "from sklearn import datasets\n",
    "from sklearn import svm\n",
    "from sklearn.linear_model import LogisticRegression\n",
    "from sklearn.naive_bayes import GaussianNB\n",
    "from sklearn.model_selection import cross_val_score\n",
    "from sklearn import metrics\n",
    "from entropy.entropy import *\n",
    "\n",
    "from scipy.io import arff\n",
    "\n",
    "\n",
    "\n",
    "# visuals\n",
    "import matplotlib.pyplot as plt"
   ]
  },
  {
   "cell_type": "markdown",
   "metadata": {},
   "source": [
    "## Import Condition Data"
   ]
  },
  {
   "cell_type": "code",
   "execution_count": 72,
   "metadata": {},
   "outputs": [],
   "source": [
    "path = \"data/useful/Plane/\""
   ]
  },
  {
   "cell_type": "code",
   "execution_count": 73,
   "metadata": {
    "scrolled": false
   },
   "outputs": [
    {
     "name": "stdout",
     "output_type": "stream",
     "text": [
      "2\n"
     ]
    },
    {
     "data": {
      "text/html": [
       "<div>\n",
       "<style scoped>\n",
       "    .dataframe tbody tr th:only-of-type {\n",
       "        vertical-align: middle;\n",
       "    }\n",
       "\n",
       "    .dataframe tbody tr th {\n",
       "        vertical-align: top;\n",
       "    }\n",
       "\n",
       "    .dataframe thead th {\n",
       "        text-align: right;\n",
       "    }\n",
       "</style>\n",
       "<table border=\"1\" class=\"dataframe\">\n",
       "  <thead>\n",
       "    <tr style=\"text-align: right;\">\n",
       "      <th></th>\n",
       "      <th>att1</th>\n",
       "      <th>att2</th>\n",
       "      <th>att3</th>\n",
       "      <th>att4</th>\n",
       "      <th>att5</th>\n",
       "      <th>att6</th>\n",
       "      <th>att7</th>\n",
       "      <th>att8</th>\n",
       "      <th>att9</th>\n",
       "      <th>att10</th>\n",
       "      <th>...</th>\n",
       "      <th>att136</th>\n",
       "      <th>att137</th>\n",
       "      <th>att138</th>\n",
       "      <th>att139</th>\n",
       "      <th>att140</th>\n",
       "      <th>att141</th>\n",
       "      <th>att142</th>\n",
       "      <th>att143</th>\n",
       "      <th>att144</th>\n",
       "      <th>target</th>\n",
       "    </tr>\n",
       "  </thead>\n",
       "  <tbody>\n",
       "    <tr>\n",
       "      <th>0</th>\n",
       "      <td>2.483940</td>\n",
       "      <td>2.276286</td>\n",
       "      <td>2.067516</td>\n",
       "      <td>1.921893</td>\n",
       "      <td>1.718775</td>\n",
       "      <td>1.508428</td>\n",
       "      <td>1.300675</td>\n",
       "      <td>1.090286</td>\n",
       "      <td>0.882733</td>\n",
       "      <td>0.672301</td>\n",
       "      <td>...</td>\n",
       "      <td>0.915860</td>\n",
       "      <td>1.120450</td>\n",
       "      <td>1.326346</td>\n",
       "      <td>1.532210</td>\n",
       "      <td>1.739919</td>\n",
       "      <td>1.945732</td>\n",
       "      <td>2.153986</td>\n",
       "      <td>2.361228</td>\n",
       "      <td>2.483939</td>\n",
       "      <td>b'1'</td>\n",
       "    </tr>\n",
       "    <tr>\n",
       "      <th>1</th>\n",
       "      <td>2.603320</td>\n",
       "      <td>2.340699</td>\n",
       "      <td>2.082285</td>\n",
       "      <td>1.825624</td>\n",
       "      <td>1.567706</td>\n",
       "      <td>1.312203</td>\n",
       "      <td>1.057195</td>\n",
       "      <td>0.801716</td>\n",
       "      <td>0.546683</td>\n",
       "      <td>0.291849</td>\n",
       "      <td>...</td>\n",
       "      <td>0.676066</td>\n",
       "      <td>0.921299</td>\n",
       "      <td>1.171722</td>\n",
       "      <td>1.418897</td>\n",
       "      <td>1.663607</td>\n",
       "      <td>1.915828</td>\n",
       "      <td>2.162467</td>\n",
       "      <td>2.405276</td>\n",
       "      <td>2.605294</td>\n",
       "      <td>b'4'</td>\n",
       "    </tr>\n",
       "    <tr>\n",
       "      <th>2</th>\n",
       "      <td>2.757321</td>\n",
       "      <td>2.576667</td>\n",
       "      <td>2.363323</td>\n",
       "      <td>2.151578</td>\n",
       "      <td>1.940218</td>\n",
       "      <td>1.729427</td>\n",
       "      <td>1.519429</td>\n",
       "      <td>1.309547</td>\n",
       "      <td>1.100253</td>\n",
       "      <td>0.891493</td>\n",
       "      <td>...</td>\n",
       "      <td>1.157343</td>\n",
       "      <td>1.363317</td>\n",
       "      <td>1.566326</td>\n",
       "      <td>1.769860</td>\n",
       "      <td>1.973864</td>\n",
       "      <td>2.178290</td>\n",
       "      <td>2.380841</td>\n",
       "      <td>2.584945</td>\n",
       "      <td>2.759135</td>\n",
       "      <td>b'6'</td>\n",
       "    </tr>\n",
       "    <tr>\n",
       "      <th>3</th>\n",
       "      <td>0.916063</td>\n",
       "      <td>0.720145</td>\n",
       "      <td>0.522445</td>\n",
       "      <td>0.325826</td>\n",
       "      <td>0.134381</td>\n",
       "      <td>-0.054012</td>\n",
       "      <td>-0.235525</td>\n",
       "      <td>-0.409605</td>\n",
       "      <td>-0.574453</td>\n",
       "      <td>-0.782353</td>\n",
       "      <td>...</td>\n",
       "      <td>0.984352</td>\n",
       "      <td>0.760642</td>\n",
       "      <td>0.541502</td>\n",
       "      <td>0.517342</td>\n",
       "      <td>0.582836</td>\n",
       "      <td>0.658641</td>\n",
       "      <td>0.757901</td>\n",
       "      <td>0.853401</td>\n",
       "      <td>0.916217</td>\n",
       "      <td>b'5'</td>\n",
       "    </tr>\n",
       "    <tr>\n",
       "      <th>4</th>\n",
       "      <td>2.656142</td>\n",
       "      <td>2.388145</td>\n",
       "      <td>2.118595</td>\n",
       "      <td>1.849677</td>\n",
       "      <td>1.576579</td>\n",
       "      <td>1.310169</td>\n",
       "      <td>1.109699</td>\n",
       "      <td>0.930998</td>\n",
       "      <td>0.750668</td>\n",
       "      <td>0.539333</td>\n",
       "      <td>...</td>\n",
       "      <td>0.792403</td>\n",
       "      <td>0.986072</td>\n",
       "      <td>1.178943</td>\n",
       "      <td>1.392679</td>\n",
       "      <td>1.660325</td>\n",
       "      <td>1.929237</td>\n",
       "      <td>2.199162</td>\n",
       "      <td>2.469993</td>\n",
       "      <td>2.655524</td>\n",
       "      <td>b'2'</td>\n",
       "    </tr>\n",
       "  </tbody>\n",
       "</table>\n",
       "<p>5 rows × 145 columns</p>\n",
       "</div>"
      ],
      "text/plain": [
       "       att1      att2      att3      att4      att5      att6      att7  \\\n",
       "0  2.483940  2.276286  2.067516  1.921893  1.718775  1.508428  1.300675   \n",
       "1  2.603320  2.340699  2.082285  1.825624  1.567706  1.312203  1.057195   \n",
       "2  2.757321  2.576667  2.363323  2.151578  1.940218  1.729427  1.519429   \n",
       "3  0.916063  0.720145  0.522445  0.325826  0.134381 -0.054012 -0.235525   \n",
       "4  2.656142  2.388145  2.118595  1.849677  1.576579  1.310169  1.109699   \n",
       "\n",
       "       att8      att9     att10  ...    att136    att137    att138    att139  \\\n",
       "0  1.090286  0.882733  0.672301  ...  0.915860  1.120450  1.326346  1.532210   \n",
       "1  0.801716  0.546683  0.291849  ...  0.676066  0.921299  1.171722  1.418897   \n",
       "2  1.309547  1.100253  0.891493  ...  1.157343  1.363317  1.566326  1.769860   \n",
       "3 -0.409605 -0.574453 -0.782353  ...  0.984352  0.760642  0.541502  0.517342   \n",
       "4  0.930998  0.750668  0.539333  ...  0.792403  0.986072  1.178943  1.392679   \n",
       "\n",
       "     att140    att141    att142    att143    att144  target  \n",
       "0  1.739919  1.945732  2.153986  2.361228  2.483939    b'1'  \n",
       "1  1.663607  1.915828  2.162467  2.405276  2.605294    b'4'  \n",
       "2  1.973864  2.178290  2.380841  2.584945  2.759135    b'6'  \n",
       "3  0.582836  0.658641  0.757901  0.853401  0.916217    b'5'  \n",
       "4  1.660325  1.929237  2.199162  2.469993  2.655524    b'2'  \n",
       "\n",
       "[5 rows x 145 columns]"
      ]
     },
     "execution_count": 73,
     "metadata": {},
     "output_type": "execute_result"
    }
   ],
   "source": [
    "data = arff.loadarff(path+'Plane_TRAIN.arff')\n",
    "print(len(data))\n",
    "df_data = pd.DataFrame(data[0])\n",
    "\n",
    "df_data.head()"
   ]
  },
  {
   "cell_type": "code",
   "execution_count": 74,
   "metadata": {},
   "outputs": [],
   "source": [
    "Xtrain = df_data.drop(columns=['target']).values\n",
    "ytrain = df_data['target']"
   ]
  },
  {
   "cell_type": "code",
   "execution_count": 75,
   "metadata": {},
   "outputs": [
    {
     "data": {
      "text/plain": [
       "(144,)"
      ]
     },
     "execution_count": 75,
     "metadata": {},
     "output_type": "execute_result"
    }
   ],
   "source": [
    "Xtrain[0].shape"
   ]
  },
  {
   "cell_type": "code",
   "execution_count": 76,
   "metadata": {},
   "outputs": [
    {
     "data": {
      "text/plain": [
       "(105,)"
      ]
     },
     "execution_count": 76,
     "metadata": {},
     "output_type": "execute_result"
    }
   ],
   "source": [
    "ytrain.shape"
   ]
  },
  {
   "cell_type": "code",
   "execution_count": 77,
   "metadata": {},
   "outputs": [
    {
     "data": {
      "image/png": "[encoded data removed]",
      "text/plain": [
       "<Figure size 432x288 with 1 Axes>"
      ]
     },
     "execution_count": 77,
     "metadata": {},
     "output_type": "execute_result"
    },
    {
     "data": {
      "image/png": "[encoded data removed]",
      "text/plain": [
       "<Figure size 432x288 with 1 Axes>"
      ]
     },
     "metadata": {
      "needs_background": "light"
     },
     "output_type": "display_data"
    }
   ],
   "source": [
    "x_range = [x for x in range(0,len(Xtrain[0]))]\n",
    "\n",
    "initial_fig, initial_ax = plt.subplots(1,1)\n",
    "initial_ax = plt.scatter(x_range,Xtrain[0])\n",
    "initial_fig"
   ]
  },
  {
   "cell_type": "markdown",
   "metadata": {},
   "source": [
    "## Extract Features"
   ]
  },
  {
   "cell_type": "markdown",
   "metadata": {},
   "source": [
    "### Extracting the following features from selected data\n",
    "\n",
    "<ol>\n",
    "<li>Mean Activity Level</li>\n",
    "<li>Standard Deviation</li>\n",
    "<li> Trimmed Mean </li>\n",
    "</ol>"
   ]
  },
  {
   "cell_type": "code",
   "execution_count": 78,
   "metadata": {},
   "outputs": [],
   "source": [
    "training_data_raw = Xtrain"
   ]
  },
  {
   "cell_type": "code",
   "execution_count": 79,
   "metadata": {},
   "outputs": [],
   "source": [
    "def normalise(X):\n",
    "    return [(x - min(X))/(max(X)-min(X)) for x in X]"
   ]
  },
  {
   "cell_type": "code",
   "execution_count": 80,
   "metadata": {},
   "outputs": [],
   "source": [
    "from scipy.stats import trim_mean\n",
    "    \n",
    "df_features = pd.DataFrame()\n",
    "df_features['normalised_training_mean'] = normalise([np.mean(x) for x in training_data_raw])\n",
    "df_features['normalised_training_std'] = normalise([np.std(x) for x in training_data_raw])\n",
    "\n",
    "df_features['perm_entropy'] = normalise([perm_entropy(x,10) for x in training_data_raw])\n",
    "df_features['sample_entropy'] = normalise([sample_entropy(x,2) for x in training_data_raw])\n",
    "df_features['app_entropy'] = normalise([app_entropy(x,2) for x in training_data_raw])\n",
    "df_features['svd_entropy'] = normalise([svd_entropy(x,3) for x in training_data_raw])\n",
    "#df_features['spectral_entropy'] = normalise([spectral_entropy(x,100) for x in training_data_raw])"
   ]
  },
  {
   "cell_type": "code",
   "execution_count": 81,
   "metadata": {},
   "outputs": [],
   "source": [
    "feature_combinations = []\n",
    "\n",
    "feature_names = ['perm', 'sample', 'app', 'svd']\n",
    "# singles\n",
    "feature_combinations.append(df_features.drop(['sample_entropy', 'app_entropy', 'svd_entropy'],axis=1).values)\n",
    "feature_combinations.append(df_features.drop(['perm_entropy', 'app_entropy', 'svd_entropy'],axis=1).values)\n",
    "feature_combinations.append(df_features.drop(['perm_entropy', 'sample_entropy', 'svd_entropy'],axis=1).values)\n",
    "feature_combinations.append(df_features.drop(['perm_entropy', 'sample_entropy', 'app_entropy'],axis=1).values)\n",
    "\n",
    "\n"
   ]
  },
  {
   "cell_type": "code",
   "execution_count": 82,
   "metadata": {},
   "outputs": [],
   "source": [
    "y_temp = ytrain.values\n",
    "\n",
    "y = [x[0] for x in y_temp]"
   ]
  },
  {
   "cell_type": "markdown",
   "metadata": {},
   "source": [
    "## Naive Bayes"
   ]
  },
  {
   "cell_type": "code",
   "execution_count": 83,
   "metadata": {},
   "outputs": [],
   "source": [
    "from sklearn.naive_bayes import GaussianNB\n",
    "clf = GaussianNB()\n",
    "accuracy_scores = []\n",
    "f1_scores = []\n",
    "\n",
    "for X in feature_combinations:\n",
    "    accuracy_scores.append(cross_val_score(clf, X, y, cv=5, scoring='accuracy'))\n",
    "    f1_scores.append(cross_val_score(clf, X, y, cv=5, scoring='f1_weighted'))"
   ]
  },
  {
   "cell_type": "code",
   "execution_count": 84,
   "metadata": {},
   "outputs": [
    {
     "data": {
      "text/plain": [
       "4"
      ]
     },
     "execution_count": 84,
     "metadata": {},
     "output_type": "execute_result"
    }
   ],
   "source": [
    "len(accuracy_scores)"
   ]
  },
  {
   "cell_type": "code",
   "execution_count": 85,
   "metadata": {},
   "outputs": [
    {
     "name": "stdout",
     "output_type": "stream",
     "text": [
      "[0.4952381  0.54285714 0.46666667 0.68571429]\n"
     ]
    }
   ],
   "source": [
    "print(np.mean(accuracy_scores,axis=1))\n",
    "\n"
   ]
  },
  {
   "cell_type": "code",
   "execution_count": 86,
   "metadata": {},
   "outputs": [
    {
     "name": "stdout",
     "output_type": "stream",
     "text": [
      "1: perm\n",
      "2: sample\n",
      "3: app\n",
      "4: svd\n"
     ]
    },
    {
     "data": {
      "image/png": "[encoded data removed]",
      "text/plain": [
       "<Figure size 432x288 with 1 Axes>"
      ]
     },
     "execution_count": 86,
     "metadata": {},
     "output_type": "execute_result"
    },
    {
     "data": {
      "image/png": "[encoded data removed]",
      "text/plain": [
       "<Figure size 432x288 with 1 Axes>"
      ]
     },
     "metadata": {
      "needs_background": "light"
     },
     "output_type": "display_data"
    }
   ],
   "source": [
    "## Accuracy Plot\n",
    "from matplotlib.pyplot import boxplot\n",
    "\n",
    "box_plot = plt.subplots(1,1)\n",
    "box_fig, box_ax = box_plot\n",
    "box_ax.boxplot(accuracy_scores)\n",
    "#box_ax.set_xticklabels(feature_names)\n",
    "\n",
    "for x in range(1,len(feature_names)+1):\n",
    "    \n",
    "    print(str(x) + ': '+  str(feature_names[x - 1]))\n",
    "    \n",
    "box_fig\n",
    "    "
   ]
  },
  {
   "cell_type": "code",
   "execution_count": 87,
   "metadata": {},
   "outputs": [
    {
     "name": "stdout",
     "output_type": "stream",
     "text": [
      "<class 'numpy.ndarray'>\n"
     ]
    }
   ],
   "source": [
    "import random\n",
    "\n",
    "print(type(Xtrain))\n",
    "\n",
    "random_sample = random.sample(list(Xtrain), 10)"
   ]
  },
  {
   "cell_type": "code",
   "execution_count": 88,
   "metadata": {},
   "outputs": [
    {
     "name": "stdout",
     "output_type": "stream",
     "text": [
      "ADF Statistic: -2.605993\n",
      "p-value: 0.091765\n",
      "Critical Values:\n",
      "\t1%: -3.478\n",
      "\t5%: -2.882\n",
      "\t10%: -2.578\n",
      "ADF Statistic: -2.384173\n",
      "p-value: 0.146253\n",
      "Critical Values:\n",
      "\t1%: -3.480\n",
      "\t5%: -2.883\n",
      "\t10%: -2.578\n",
      "ADF Statistic: -3.495401\n",
      "p-value: 0.008106\n",
      "can_reject\n",
      "Critical Values:\n",
      "\t1%: -3.477\n",
      "\t5%: -2.882\n",
      "\t10%: -2.578\n",
      "ADF Statistic: -3.941860\n",
      "p-value: 0.001747\n",
      "can_reject\n",
      "Critical Values:\n",
      "\t1%: -3.480\n",
      "\t5%: -2.883\n",
      "\t10%: -2.578\n",
      "ADF Statistic: -2.855342\n",
      "p-value: 0.050793\n",
      "Critical Values:\n",
      "\t1%: -3.478\n",
      "\t5%: -2.882\n",
      "\t10%: -2.578\n",
      "ADF Statistic: -2.443360\n",
      "p-value: 0.129870\n",
      "Critical Values:\n",
      "\t1%: -3.480\n",
      "\t5%: -2.883\n",
      "\t10%: -2.578\n",
      "ADF Statistic: -2.206853\n",
      "p-value: 0.203768\n",
      "Critical Values:\n",
      "\t1%: -3.478\n",
      "\t5%: -2.882\n",
      "\t10%: -2.578\n",
      "ADF Statistic: -2.856455\n",
      "p-value: 0.050651\n",
      "Critical Values:\n",
      "\t1%: -3.478\n",
      "\t5%: -2.882\n",
      "\t10%: -2.578\n",
      "ADF Statistic: -2.765551\n",
      "p-value: 0.063366\n",
      "Critical Values:\n",
      "\t1%: -3.477\n",
      "\t5%: -2.882\n",
      "\t10%: -2.578\n",
      "ADF Statistic: -2.797465\n",
      "p-value: 0.058637\n",
      "Critical Values:\n",
      "\t1%: -3.478\n",
      "\t5%: -2.882\n",
      "\t10%: -2.578\n",
      "adf_mean is: \n",
      "-2.835245373604614\n",
      "0.08049561901890474\n"
     ]
    }
   ],
   "source": [
    "from statsmodels.tsa.stattools import adfuller\n",
    "mean_adf = []\n",
    "mean_p = []\n",
    "\n",
    "for X in random_sample:\n",
    "    result = adfuller(X)\n",
    "    mean_adf.append(result[0])\n",
    "    print('ADF Statistic: %f' % result[0])\n",
    "    print('p-value: %f' % result[1])\n",
    "    mean_p.append(result[1])\n",
    "    if result[1] < 0.05:\n",
    "        print(\"can_reject\")\n",
    "    print('Critical Values:')\n",
    "    for key, value in result[4].items():\n",
    "        print('\\t%s: %.3f' % (key, value))\n",
    "print(\"adf_mean is: \")\n",
    "print(np.mean(mean_adf))\n",
    "print(np.mean(mean_p))"
   ]
  },
  {
   "cell_type": "code",
   "execution_count": 89,
   "metadata": {},
   "outputs": [
    {
     "name": "stdout",
     "output_type": "stream",
     "text": [
      "mean1=-0.006167, mean2=0.006167\n",
      "variance1=0.975752, variance2=1.010283\n",
      "mean1=0.033322, mean2=-0.033322\n",
      "variance1=0.988511, variance2=0.995380\n",
      "mean1=0.159124, mean2=-0.159124\n",
      "variance1=1.312681, variance2=0.622789\n",
      "mean1=-0.022512, mean2=0.022512\n",
      "variance1=1.054082, variance2=0.931015\n",
      "mean1=0.007290, mean2=-0.007290\n",
      "variance1=0.898660, variance2=1.087345\n",
      "mean1=0.029588, mean2=-0.029588\n",
      "variance1=0.980713, variance2=1.003647\n",
      "mean1=0.040420, mean2=-0.040420\n",
      "variance1=0.954311, variance2=1.028532\n",
      "mean1=-0.010168, mean2=0.010168\n",
      "variance1=1.044567, variance2=0.941338\n",
      "mean1=-0.077587, mean2=0.077587\n",
      "variance1=0.919004, variance2=1.055067\n",
      "mean1=-0.163897, mean2=0.163897\n",
      "variance1=0.948941, variance2=0.983445\n"
     ]
    }
   ],
   "source": [
    "for X in random_sample:\n",
    "    split = round(len(X) / 2)\n",
    "    X1, X2 = X[0:split], X[split:]\n",
    "    mean1, mean2 = X1.mean(), X2.mean()\n",
    "    var1, var2 = X1.var(), X2.var()\n",
    "    print('mean1=%f, mean2=%f' % (mean1, mean2))\n",
    "    print('variance1=%f, variance2=%f' % (var1, var2))"
   ]
  },
  {
   "cell_type": "markdown",
   "metadata": {},
   "source": [
    "### Test for Auto-correlation"
   ]
  },
  {
   "cell_type": "code",
   "execution_count": 90,
   "metadata": {},
   "outputs": [],
   "source": [
    "from statsmodels.stats.stattools import durbin_watson\n",
    "from statsmodels.regression.linear_model import OLS\n",
    "\n",
    "\n",
    "def dw(data):\n",
    "    ols_res = OLS(data, np.ones(len(data))).fit()\n",
    "    return durbin_watson(ols_res.resid)\n",
    "\n"
   ]
  },
  {
   "cell_type": "code",
   "execution_count": 91,
   "metadata": {},
   "outputs": [
    {
     "name": "stdout",
     "output_type": "stream",
     "text": [
      "0.03258605434360938\n",
      "0.023000330929582882\n",
      "0.02480563588152309\n",
      "0.05040919094626131\n",
      "0.021007429691420287\n",
      "0.02252341046016667\n",
      "0.02214473662562275\n",
      "0.029199330903869416\n",
      "0.03153856969014461\n",
      "0.01959874419846268\n",
      "mean is: \n",
      "0.02768134336706631\n"
     ]
    }
   ],
   "source": [
    "mean = []\n",
    "for X in random_sample:\n",
    "    print(dw(X))\n",
    "    mean.append(dw(X))\n",
    "\n",
    "print(\"mean is: \")\n",
    "print(np.mean(mean))"
   ]
  },
  {
   "cell_type": "code",
   "execution_count": 92,
   "metadata": {},
   "outputs": [
    {
     "data": {
      "image/png": "[encoded data removed]",
      "text/plain": [
       "<Figure size 432x288 with 1 Axes>"
      ]
     },
     "metadata": {
      "needs_background": "light"
     },
     "output_type": "display_data"
    }
   ],
   "source": [
    "from pandas.plotting import autocorrelation_plot\n",
    "\n",
    "my_plot = autocorrelation_plot(random_sample[0])\n",
    "\n",
    "plt.show()"
   ]
  },
  {
   "cell_type": "markdown",
   "metadata": {},
   "source": [
    "## Matrix Profile Feature"
   ]
  },
  {
   "cell_type": "code",
   "execution_count": 93,
   "metadata": {},
   "outputs": [],
   "source": [
    "def new_discord_entropy(matrix_profile, window_size):\n",
    "    # size of time_series\n",
    "    time_series_size = len(matrix_profile)\n",
    "    \n",
    "    df_matrix_profile = pd.DataFrame()\n",
    "    df_matrix_profile['distances']= matrix_profile[:,0]\n",
    "    df_matrix_profile['index'] = matrix_profile[:,1]\n",
    "    \n",
    "    top_discords = df_matrix_profile.sort_values(by='distances')[0:10]\n",
    "\n",
    "    #top 10 discords\n",
    "    top_discord_windows = []\n",
    "    for x in top_discords['index']:\n",
    "        window = np.arange(x,x+window_size,1)\n",
    "        top_discord_windows.append(window)\n",
    "    overall_discord_window = set(np.concatenate(top_discord_windows))\n",
    "    discord_size = len(overall_discord_window)\n",
    "    discord_probability = discord_size/time_series_size\n",
    "\n",
    "\n",
    "    discord_entropy = -(discord_probability * np.log2(discord_probability))\n",
    "    \n",
    "    return discord_entropy\n",
    "    "
   ]
  },
  {
   "cell_type": "code",
   "execution_count": 94,
   "metadata": {},
   "outputs": [],
   "source": [
    "def new_motif_entropy(matrix_profile, window_size):\n",
    "    # size of time_series\n",
    "    time_series_size = len(matrix_profile)\n",
    "    \n",
    "    df_matrix_profile = pd.DataFrame()\n",
    "    df_matrix_profile['distances']= matrix_profile[:,0]\n",
    "    df_matrix_profile['index'] = matrix_profile[:,1]\n",
    "    \n",
    "    top_motifs = df_matrix_profile.sort_values(by='distances')[0:10]\n",
    "\n",
    "    # top 10 motifs \n",
    "    top_motif_windows = []\n",
    "    for x in top_motifs['index']:\n",
    "        window = np.arange(x,x+window_size,1)\n",
    "        top_motif_windows.append(window)\n",
    "    overall_motif_window = set(np.concatenate(top_motif_windows))\n",
    "    motif_size = len(overall_motif_window)\n",
    "    motif_probability = motif_size/time_series_size\n",
    "\n",
    "    motif_entropy = -(motif_probability * np.log2(motif_probability))\n",
    "    \n",
    "    return motif_entropy"
   ]
  },
  {
   "cell_type": "code",
   "execution_count": 95,
   "metadata": {},
   "outputs": [],
   "source": [
    "def motif_entropy(matrix_profile):\n",
    "    df_matrix_profile = pd.DataFrame()\n",
    "    df_matrix_profile['distances']= matrix_profile[:,0]\n",
    "    df_matrix_profile['index'] = matrix_profile[:,1]\n",
    "    df_matrix_profile['index_left'] = matrix_profile[:,2]\n",
    "    df_matrix_profile['index_right'] = matrix_profile[:,3]\n",
    "    \n",
    "    top_motifs = df_matrix_profile.sort_values(by='distances')[0:100]\n",
    "    entropy_motif = np.sum(np.asarray([x * np.log2(x) for x in top_motifs['distances']]))\n",
    "    \n",
    "    return entropy_motif"
   ]
  },
  {
   "cell_type": "code",
   "execution_count": 96,
   "metadata": {},
   "outputs": [],
   "source": [
    "def discord_entropy(matrix_profile):\n",
    "    df_matrix_profile = pd.DataFrame()\n",
    "    df_matrix_profile['distances']= matrix_profile[:,0]\n",
    "    df_matrix_profile['index'] = matrix_profile[:,1]\n",
    "    df_matrix_profile['index_left'] = matrix_profile[:,2]\n",
    "    df_matrix_profile['index_right'] = matrix_profile[:,3]\n",
    "    \n",
    "    top_discords = df_matrix_profile.sort_values(by='distances')[len(df_matrix_profile)-200:len(df_matrix_profile)] \n",
    "    entropy_discord = np.sum(np.asarray([x * np.log2(x) for x in top_discords['distances']]))\n",
    "    \n",
    "    return entropy_discord"
   ]
  },
  {
   "cell_type": "code",
   "execution_count": 97,
   "metadata": {},
   "outputs": [],
   "source": [
    "def distance_entropy(matrix_profile):\n",
    "    df_matrix_profile = pd.DataFrame()\n",
    "    df_matrix_profile['distances']= matrix_profile[:,0]\n",
    "    df_matrix_profile['index'] = matrix_profile[:,1]\n",
    "    df_matrix_profile['index_left'] = matrix_profile[:,2]\n",
    "    df_matrix_profile['index_right'] = matrix_profile[:,3]\n",
    "    \n",
    "    max_discord = max(df_matrix_profile['distances'])\n",
    "    entropy_distance = np.sum(np.asarray([-np.multiply((x/max_discord), np.log2(x/max_discord)).sum() for x in df_matrix_profile['distances']]))\n",
    "    \n",
    "    return entropy_distance"
   ]
  },
  {
   "cell_type": "code",
   "execution_count": 98,
   "metadata": {},
   "outputs": [],
   "source": [
    "def calculate_matrix_profile(data, window_size):\n",
    "    time_series = np.array(data, dtype=float)\n",
    "    matrix_profile = stumpy.stump(time_series, m=window_size)    \n",
    "    return matrix_profile"
   ]
  },
  {
   "cell_type": "code",
   "execution_count": 99,
   "metadata": {},
   "outputs": [],
   "source": [
    "import stumpy\n",
    "\n",
    "df_features = pd.DataFrame()\n",
    "df_features['normalised_training_mean'] = normalise([np.mean(x) for x in training_data_raw])\n",
    "df_features['normalised_training_std'] = normalise([np.std(x) for x in training_data_raw])\n",
    "\n",
    "window_size = 10\n",
    "matrix_profiles = [calculate_matrix_profile(x,window_size) for x in training_data_raw]"
   ]
  },
  {
   "cell_type": "code",
   "execution_count": 100,
   "metadata": {},
   "outputs": [],
   "source": [
    "df_features['new_motif_entropy'] = normalise([new_motif_entropy(x, window_size) for x in matrix_profiles])\n",
    "df_features['new_discord_entropy'] = normalise([new_discord_entropy(x, window_size) for x in matrix_profiles])\n",
    "df_features['motif_entropy'] = normalise([motif_entropy(x) for x in matrix_profiles])\n",
    "df_features['discord_entropy'] = normalise([discord_entropy(x) for x in matrix_profiles])\n",
    "#df_features['distance_entropy'] = normalise([distance_entropy(x) for x in matrix_profiles])"
   ]
  },
  {
   "cell_type": "code",
   "execution_count": 101,
   "metadata": {},
   "outputs": [],
   "source": [
    "entropy_feature_combinations = []\n",
    "\n",
    "entropy_feature_names = ['new_motif_entropy', 'new_discord_entropy', 'motif_entropy', 'discord_entropy']\n",
    "# singles\n",
    "entropy_feature_combinations.append(df_features.drop(['new_discord_entropy', 'motif_entropy', 'discord_entropy'],axis=1).values)\n",
    "entropy_feature_combinations.append(df_features.drop(['new_motif_entropy', 'motif_entropy', 'discord_entropy'],axis=1).values)\n",
    "entropy_feature_combinations.append(df_features.drop(['new_motif_entropy', 'new_discord_entropy', 'discord_entropy'],axis=1).values)\n",
    "entropy_feature_combinations.append(df_features.drop(['new_motif_entropy', 'new_discord_entropy', 'motif_entropy'],axis=1).values)\n"
   ]
  },
  {
   "cell_type": "code",
   "execution_count": 102,
   "metadata": {},
   "outputs": [],
   "source": [
    "accuracy_scores = []\n",
    "f1_scores = []\n",
    "\n",
    "for X in entropy_feature_combinations:\n",
    "    accuracy_scores.append(cross_val_score(clf, X, y, cv=5, scoring='accuracy'))\n",
    "    f1_scores.append(cross_val_score(clf, X, y, cv=5, scoring='f1_weighted'))"
   ]
  },
  {
   "cell_type": "code",
   "execution_count": 103,
   "metadata": {},
   "outputs": [
    {
     "data": {
      "text/plain": [
       "0.3476190476190476"
      ]
     },
     "execution_count": 103,
     "metadata": {},
     "output_type": "execute_result"
    }
   ],
   "source": [
    "np.mean(accuracy_scores)"
   ]
  },
  {
   "cell_type": "code",
   "execution_count": 104,
   "metadata": {},
   "outputs": [
    {
     "data": {
      "text/plain": [
       "0.31608670430099"
      ]
     },
     "execution_count": 104,
     "metadata": {},
     "output_type": "execute_result"
    }
   ],
   "source": [
    "np.mean(f1_scores)"
   ]
  },
  {
   "cell_type": "code",
   "execution_count": 105,
   "metadata": {},
   "outputs": [
    {
     "name": "stdout",
     "output_type": "stream",
     "text": [
      "1: new_motif_entropy\n",
      "2: new_discord_entropy\n",
      "3: motif_entropy\n",
      "4: discord_entropy\n"
     ]
    },
    {
     "data": {
      "image/png": "[encoded data removed]",
      "text/plain": [
       "<Figure size 432x288 with 1 Axes>"
      ]
     },
     "metadata": {
      "needs_background": "light"
     },
     "output_type": "display_data"
    }
   ],
   "source": [
    "## Accuracy Plot\n",
    "from matplotlib.pyplot import boxplot\n",
    "\n",
    "box_plot = plt.subplots(1,1)\n",
    "box_fig, box_ax = box_plot\n",
    "box_ax.boxplot(accuracy_scores)\n",
    "#box_ax.set_xticklabels(feature_names)\n",
    "\n",
    "for x in range(1,len(entropy_feature_names)+1):\n",
    "    \n",
    "    print(str(x) + ': '+  str(entropy_feature_names[x - 1]))\n",
    "    \n",
    "\n"
   ]
  },
  {
   "cell_type": "code",
   "execution_count": 106,
   "metadata": {},
   "outputs": [
    {
     "name": "stdout",
     "output_type": "stream",
     "text": [
      "1: new_motif_entropy\n",
      "2: new_discord_entropy\n",
      "3: motif_entropy\n",
      "4: discord_entropy\n"
     ]
    },
    {
     "data": {
      "image/png": "[encoded data removed]",
      "text/plain": [
       "<Figure size 432x288 with 1 Axes>"
      ]
     },
     "metadata": {
      "needs_background": "light"
     },
     "output_type": "display_data"
    }
   ],
   "source": [
    "## Accuracy Plot\n",
    "from matplotlib.pyplot import boxplot\n",
    "\n",
    "box_plot = plt.subplots(1,1)\n",
    "box_fig, box_ax = box_plot\n",
    "box_ax.boxplot(f1_scores)\n",
    "#box_ax.set_xticklabels(feature_names)\n",
    "\n",
    "for x in range(1,len(entropy_feature_names)+1):\n",
    "    \n",
    "    print(str(x) + ': '+  str(entropy_feature_names[x - 1]))\n",
    "    \n",
    "\n"
   ]
  }
 ],
 "metadata": {
  "kernelspec": {
   "display_name": "Python 3",
   "language": "python",
   "name": "python3"
  },
  "language_info": {
   "codemirror_mode": {
    "name": "ipython",
    "version": 3
   },
   "file_extension": ".py",
   "mimetype": "text/x-python",
   "name": "python",
   "nbconvert_exporter": "python",
   "pygments_lexer": "ipython3",
   "version": "3.6.3"
  }
 },
 "nbformat": 4,
 "nbformat_minor": 2
}
