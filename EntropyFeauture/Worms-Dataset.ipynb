{
 "cells": [
  {
   "cell_type": "code",
   "execution_count": 131,
   "metadata": {},
   "outputs": [],
   "source": [
    "#analytics\n",
    "import pandas as pd\n",
    "import glob\n",
    "import numpy as np\n",
    "from sklearn.model_selection import train_test_split\n",
    "from sklearn import datasets\n",
    "from sklearn import svm\n",
    "from sklearn.linear_model import LogisticRegression\n",
    "from sklearn.naive_bayes import GaussianNB\n",
    "from sklearn.model_selection import cross_val_score\n",
    "from sklearn import metrics\n",
    "from entropy.entropy import *\n",
    "\n",
    "from scipy.io import arff\n",
    "\n",
    "\n",
    "\n",
    "# visuals\n",
    "import matplotlib.pyplot as plt"
   ]
  },
  {
   "cell_type": "markdown",
   "metadata": {},
   "source": [
    "## Import Condition Data"
   ]
  },
  {
   "cell_type": "code",
   "execution_count": 132,
   "metadata": {},
   "outputs": [],
   "source": [
    "path = \"data/useful/Worms/\""
   ]
  },
  {
   "cell_type": "code",
   "execution_count": 133,
   "metadata": {
    "scrolled": false
   },
   "outputs": [
    {
     "name": "stdout",
     "output_type": "stream",
     "text": [
      "2\n"
     ]
    },
    {
     "data": {
      "text/html": [
       "<div>\n",
       "<style scoped>\n",
       "    .dataframe tbody tr th:only-of-type {\n",
       "        vertical-align: middle;\n",
       "    }\n",
       "\n",
       "    .dataframe tbody tr th {\n",
       "        vertical-align: top;\n",
       "    }\n",
       "\n",
       "    .dataframe thead th {\n",
       "        text-align: right;\n",
       "    }\n",
       "</style>\n",
       "<table border=\"1\" class=\"dataframe\">\n",
       "  <thead>\n",
       "    <tr style=\"text-align: right;\">\n",
       "      <th></th>\n",
       "      <th>att1</th>\n",
       "      <th>att2</th>\n",
       "      <th>att3</th>\n",
       "      <th>att4</th>\n",
       "      <th>att5</th>\n",
       "      <th>att6</th>\n",
       "      <th>att7</th>\n",
       "      <th>att8</th>\n",
       "      <th>att9</th>\n",
       "      <th>att10</th>\n",
       "      <th>...</th>\n",
       "      <th>att892</th>\n",
       "      <th>att893</th>\n",
       "      <th>att894</th>\n",
       "      <th>att895</th>\n",
       "      <th>att896</th>\n",
       "      <th>att897</th>\n",
       "      <th>att898</th>\n",
       "      <th>att899</th>\n",
       "      <th>att900</th>\n",
       "      <th>target</th>\n",
       "    </tr>\n",
       "  </thead>\n",
       "  <tbody>\n",
       "    <tr>\n",
       "      <th>0</th>\n",
       "      <td>1.660505</td>\n",
       "      <td>1.739092</td>\n",
       "      <td>1.812766</td>\n",
       "      <td>1.847148</td>\n",
       "      <td>1.901176</td>\n",
       "      <td>1.935558</td>\n",
       "      <td>1.906088</td>\n",
       "      <td>1.945381</td>\n",
       "      <td>1.925734</td>\n",
       "      <td>1.915911</td>\n",
       "      <td>...</td>\n",
       "      <td>-0.422037</td>\n",
       "      <td>-0.397478</td>\n",
       "      <td>-0.402390</td>\n",
       "      <td>-0.402390</td>\n",
       "      <td>-0.402390</td>\n",
       "      <td>-0.441683</td>\n",
       "      <td>-0.431860</td>\n",
       "      <td>-0.495712</td>\n",
       "      <td>-0.505535</td>\n",
       "      <td>b'1'</td>\n",
       "    </tr>\n",
       "    <tr>\n",
       "      <th>1</th>\n",
       "      <td>-0.379133</td>\n",
       "      <td>0.242145</td>\n",
       "      <td>-0.517195</td>\n",
       "      <td>-0.033979</td>\n",
       "      <td>0.587299</td>\n",
       "      <td>-0.517195</td>\n",
       "      <td>-0.172040</td>\n",
       "      <td>0.035052</td>\n",
       "      <td>0.518269</td>\n",
       "      <td>-0.103009</td>\n",
       "      <td>...</td>\n",
       "      <td>-3.623585</td>\n",
       "      <td>-2.311998</td>\n",
       "      <td>-3.278430</td>\n",
       "      <td>-2.864245</td>\n",
       "      <td>-3.278430</td>\n",
       "      <td>-3.002307</td>\n",
       "      <td>-2.864245</td>\n",
       "      <td>-2.726183</td>\n",
       "      <td>-3.071337</td>\n",
       "      <td>b'1'</td>\n",
       "    </tr>\n",
       "    <tr>\n",
       "      <th>2</th>\n",
       "      <td>0.534425</td>\n",
       "      <td>0.444349</td>\n",
       "      <td>0.399312</td>\n",
       "      <td>0.511906</td>\n",
       "      <td>0.669539</td>\n",
       "      <td>0.714577</td>\n",
       "      <td>0.511906</td>\n",
       "      <td>0.692058</td>\n",
       "      <td>0.489387</td>\n",
       "      <td>0.556944</td>\n",
       "      <td>...</td>\n",
       "      <td>3.934791</td>\n",
       "      <td>3.754639</td>\n",
       "      <td>4.024867</td>\n",
       "      <td>3.799677</td>\n",
       "      <td>3.777158</td>\n",
       "      <td>3.777158</td>\n",
       "      <td>3.574488</td>\n",
       "      <td>3.844715</td>\n",
       "      <td>3.574488</td>\n",
       "      <td>b'1'</td>\n",
       "    </tr>\n",
       "    <tr>\n",
       "      <th>3</th>\n",
       "      <td>-2.438882</td>\n",
       "      <td>-2.412564</td>\n",
       "      <td>-2.438882</td>\n",
       "      <td>-2.333611</td>\n",
       "      <td>-2.267818</td>\n",
       "      <td>-2.307294</td>\n",
       "      <td>-2.412564</td>\n",
       "      <td>-2.162547</td>\n",
       "      <td>-2.241500</td>\n",
       "      <td>-2.254659</td>\n",
       "      <td>...</td>\n",
       "      <td>-1.767783</td>\n",
       "      <td>-1.794101</td>\n",
       "      <td>-1.688830</td>\n",
       "      <td>-1.701989</td>\n",
       "      <td>-1.701989</td>\n",
       "      <td>-1.767783</td>\n",
       "      <td>-1.767783</td>\n",
       "      <td>-1.754624</td>\n",
       "      <td>-1.767783</td>\n",
       "      <td>b'1'</td>\n",
       "    </tr>\n",
       "    <tr>\n",
       "      <th>4</th>\n",
       "      <td>1.601259</td>\n",
       "      <td>1.601259</td>\n",
       "      <td>1.589440</td>\n",
       "      <td>1.589440</td>\n",
       "      <td>1.589440</td>\n",
       "      <td>1.589440</td>\n",
       "      <td>1.589440</td>\n",
       "      <td>1.577622</td>\n",
       "      <td>1.577622</td>\n",
       "      <td>1.577622</td>\n",
       "      <td>...</td>\n",
       "      <td>3.208625</td>\n",
       "      <td>3.244082</td>\n",
       "      <td>3.125893</td>\n",
       "      <td>3.031342</td>\n",
       "      <td>2.948610</td>\n",
       "      <td>2.854059</td>\n",
       "      <td>2.783146</td>\n",
       "      <td>2.794965</td>\n",
       "      <td>2.854059</td>\n",
       "      <td>b'1'</td>\n",
       "    </tr>\n",
       "  </tbody>\n",
       "</table>\n",
       "<p>5 rows × 901 columns</p>\n",
       "</div>"
      ],
      "text/plain": [
       "       att1      att2      att3      att4      att5      att6      att7  \\\n",
       "0  1.660505  1.739092  1.812766  1.847148  1.901176  1.935558  1.906088   \n",
       "1 -0.379133  0.242145 -0.517195 -0.033979  0.587299 -0.517195 -0.172040   \n",
       "2  0.534425  0.444349  0.399312  0.511906  0.669539  0.714577  0.511906   \n",
       "3 -2.438882 -2.412564 -2.438882 -2.333611 -2.267818 -2.307294 -2.412564   \n",
       "4  1.601259  1.601259  1.589440  1.589440  1.589440  1.589440  1.589440   \n",
       "\n",
       "       att8      att9     att10  ...    att892    att893    att894    att895  \\\n",
       "0  1.945381  1.925734  1.915911  ... -0.422037 -0.397478 -0.402390 -0.402390   \n",
       "1  0.035052  0.518269 -0.103009  ... -3.623585 -2.311998 -3.278430 -2.864245   \n",
       "2  0.692058  0.489387  0.556944  ...  3.934791  3.754639  4.024867  3.799677   \n",
       "3 -2.162547 -2.241500 -2.254659  ... -1.767783 -1.794101 -1.688830 -1.701989   \n",
       "4  1.577622  1.577622  1.577622  ...  3.208625  3.244082  3.125893  3.031342   \n",
       "\n",
       "     att896    att897    att898    att899    att900  target  \n",
       "0 -0.402390 -0.441683 -0.431860 -0.495712 -0.505535    b'1'  \n",
       "1 -3.278430 -3.002307 -2.864245 -2.726183 -3.071337    b'1'  \n",
       "2  3.777158  3.777158  3.574488  3.844715  3.574488    b'1'  \n",
       "3 -1.701989 -1.767783 -1.767783 -1.754624 -1.767783    b'1'  \n",
       "4  2.948610  2.854059  2.783146  2.794965  2.854059    b'1'  \n",
       "\n",
       "[5 rows x 901 columns]"
      ]
     },
     "execution_count": 133,
     "metadata": {},
     "output_type": "execute_result"
    }
   ],
   "source": [
    "data = arff.loadarff(path+'Worms_TRAIN.arff')\n",
    "print(len(data))\n",
    "df_data = pd.DataFrame(data[0])\n",
    "\n",
    "df_data.head()"
   ]
  },
  {
   "cell_type": "code",
   "execution_count": 134,
   "metadata": {},
   "outputs": [],
   "source": [
    "Xtrain = df_data.drop(columns=['target']).values\n",
    "ytrain = df_data['target']"
   ]
  },
  {
   "cell_type": "code",
   "execution_count": 135,
   "metadata": {},
   "outputs": [
    {
     "data": {
      "text/plain": [
       "(900,)"
      ]
     },
     "execution_count": 135,
     "metadata": {},
     "output_type": "execute_result"
    }
   ],
   "source": [
    "Xtrain[0].shape"
   ]
  },
  {
   "cell_type": "code",
   "execution_count": 136,
   "metadata": {},
   "outputs": [
    {
     "data": {
      "text/plain": [
       "(181,)"
      ]
     },
     "execution_count": 136,
     "metadata": {},
     "output_type": "execute_result"
    }
   ],
   "source": [
    "ytrain.shape"
   ]
  },
  {
   "cell_type": "code",
   "execution_count": 137,
   "metadata": {},
   "outputs": [
    {
     "data": {
      "image/png": "[encoded data removed]",
      "text/plain": [
       "<Figure size 432x288 with 1 Axes>"
      ]
     },
     "execution_count": 137,
     "metadata": {},
     "output_type": "execute_result"
    },
    {
     "data": {
      "image/png": "[encoded data removed]",
      "text/plain": [
       "<Figure size 432x288 with 1 Axes>"
      ]
     },
     "metadata": {
      "needs_background": "light"
     },
     "output_type": "display_data"
    }
   ],
   "source": [
    "x_range = [x for x in range(0,len(Xtrain[0]))]\n",
    "\n",
    "initial_fig, initial_ax = plt.subplots(1,1)\n",
    "initial_ax = plt.scatter(x_range,Xtrain[0])\n",
    "initial_fig"
   ]
  },
  {
   "cell_type": "markdown",
   "metadata": {},
   "source": [
    "## Extract Features"
   ]
  },
  {
   "cell_type": "markdown",
   "metadata": {},
   "source": [
    "### Extracting the following features from selected data\n",
    "\n",
    "<ol>\n",
    "<li>Mean Activity Level</li>\n",
    "<li>Standard Deviation</li>\n",
    "<li> Trimmed Mean </li>\n",
    "</ol>"
   ]
  },
  {
   "cell_type": "code",
   "execution_count": 138,
   "metadata": {},
   "outputs": [],
   "source": [
    "training_data_raw = Xtrain"
   ]
  },
  {
   "cell_type": "code",
   "execution_count": 139,
   "metadata": {},
   "outputs": [],
   "source": [
    "def normalise(X):\n",
    "    return [(x - min(X))/(max(X)-min(X)) for x in X]"
   ]
  },
  {
   "cell_type": "code",
   "execution_count": 140,
   "metadata": {},
   "outputs": [],
   "source": [
    "from scipy.stats import trim_mean\n",
    "    \n",
    "df_features = pd.DataFrame()\n",
    "df_features['normalised_training_mean'] = normalise([np.mean(x) for x in training_data_raw])\n",
    "df_features['normalised_training_std'] = normalise([np.std(x) for x in training_data_raw])\n",
    "\n",
    "df_features['perm_entropy'] = normalise([perm_entropy(x,10) for x in training_data_raw])\n",
    "df_features['sample_entropy'] = normalise([sample_entropy(x,2) for x in training_data_raw])\n",
    "df_features['app_entropy'] = normalise([app_entropy(x,2) for x in training_data_raw])\n",
    "df_features['svd_entropy'] = normalise([svd_entropy(x,3) for x in training_data_raw])\n",
    "#df_features['spectral_entropy'] = normalise([spectral_entropy(x,100) for x in training_data_raw])"
   ]
  },
  {
   "cell_type": "code",
   "execution_count": 141,
   "metadata": {},
   "outputs": [],
   "source": [
    "feature_combinations = []\n",
    "\n",
    "feature_names = ['perm', 'sample', 'app', 'svd']\n",
    "# singles\n",
    "feature_combinations.append(df_features.drop(['sample_entropy', 'app_entropy', 'svd_entropy'],axis=1).values)\n",
    "feature_combinations.append(df_features.drop(['perm_entropy', 'app_entropy', 'svd_entropy'],axis=1).values)\n",
    "feature_combinations.append(df_features.drop(['perm_entropy', 'sample_entropy', 'svd_entropy'],axis=1).values)\n",
    "feature_combinations.append(df_features.drop(['perm_entropy', 'sample_entropy', 'app_entropy'],axis=1).values)\n",
    "\n",
    "\n"
   ]
  },
  {
   "cell_type": "code",
   "execution_count": 142,
   "metadata": {},
   "outputs": [],
   "source": [
    "y_temp = ytrain.values\n",
    "\n",
    "y = [x[0] for x in y_temp]"
   ]
  },
  {
   "cell_type": "markdown",
   "metadata": {},
   "source": [
    "## Naive Bayes"
   ]
  },
  {
   "cell_type": "code",
   "execution_count": 143,
   "metadata": {},
   "outputs": [],
   "source": [
    "from sklearn.naive_bayes import GaussianNB\n",
    "clf = GaussianNB()\n",
    "accuracy_scores = []\n",
    "f1_scores = []\n",
    "\n",
    "for X in feature_combinations:\n",
    "    accuracy_scores.append(cross_val_score(clf, X, y, cv=5, scoring='accuracy'))\n",
    "    f1_scores.append(cross_val_score(clf, X, y, cv=5, scoring='f1_weighted'))"
   ]
  },
  {
   "cell_type": "code",
   "execution_count": 144,
   "metadata": {},
   "outputs": [
    {
     "data": {
      "text/plain": [
       "4"
      ]
     },
     "execution_count": 144,
     "metadata": {},
     "output_type": "execute_result"
    }
   ],
   "source": [
    "len(accuracy_scores)"
   ]
  },
  {
   "cell_type": "code",
   "execution_count": 145,
   "metadata": {},
   "outputs": [
    {
     "name": "stdout",
     "output_type": "stream",
     "text": [
      "[0.39249249 0.4533033  0.503003   0.48618619]\n"
     ]
    }
   ],
   "source": [
    "print(np.mean(accuracy_scores,axis=1))\n",
    "\n"
   ]
  },
  {
   "cell_type": "code",
   "execution_count": 146,
   "metadata": {},
   "outputs": [
    {
     "name": "stdout",
     "output_type": "stream",
     "text": [
      "1: perm\n",
      "2: sample\n",
      "3: app\n",
      "4: svd\n"
     ]
    },
    {
     "data": {
      "image/png": "[encoded data removed]",
      "text/plain": [
       "<Figure size 432x288 with 1 Axes>"
      ]
     },
     "execution_count": 146,
     "metadata": {},
     "output_type": "execute_result"
    },
    {
     "data": {
      "image/png": "[encoded data removed]",
      "text/plain": [
       "<Figure size 432x288 with 1 Axes>"
      ]
     },
     "metadata": {
      "needs_background": "light"
     },
     "output_type": "display_data"
    }
   ],
   "source": [
    "## Accuracy Plot\n",
    "from matplotlib.pyplot import boxplot\n",
    "\n",
    "box_plot = plt.subplots(1,1)\n",
    "box_fig, box_ax = box_plot\n",
    "box_ax.boxplot(accuracy_scores)\n",
    "#box_ax.set_xticklabels(feature_names)\n",
    "\n",
    "for x in range(1,len(feature_names)+1):\n",
    "    \n",
    "    print(str(x) + ': '+  str(feature_names[x - 1]))\n",
    "    \n",
    "box_fig\n",
    "    "
   ]
  },
  {
   "cell_type": "code",
   "execution_count": 147,
   "metadata": {},
   "outputs": [],
   "source": [
    "import random\n",
    "\n",
    "random_sample = random.sample(list(Xtrain), 10)"
   ]
  },
  {
   "cell_type": "code",
   "execution_count": 148,
   "metadata": {},
   "outputs": [
    {
     "name": "stdout",
     "output_type": "stream",
     "text": [
      "ADF Statistic: -2.720946\n",
      "p-value: 0.070483\n",
      "Critical Values:\n",
      "\t1%: -3.438\n",
      "\t5%: -2.865\n",
      "\t10%: -2.568\n",
      "ADF Statistic: -5.201643\n",
      "p-value: 0.000009\n",
      "can reject\n",
      "Critical Values:\n",
      "\t1%: -3.438\n",
      "\t5%: -2.865\n",
      "\t10%: -2.569\n",
      "ADF Statistic: -2.834027\n",
      "p-value: 0.053575\n",
      "Critical Values:\n",
      "\t1%: -3.438\n",
      "\t5%: -2.865\n",
      "\t10%: -2.568\n",
      "ADF Statistic: -0.906573\n",
      "p-value: 0.785800\n",
      "Critical Values:\n",
      "\t1%: -3.438\n",
      "\t5%: -2.865\n",
      "\t10%: -2.569\n",
      "ADF Statistic: -5.118936\n",
      "p-value: 0.000013\n",
      "can reject\n",
      "Critical Values:\n",
      "\t1%: -3.438\n",
      "\t5%: -2.865\n",
      "\t10%: -2.568\n",
      "ADF Statistic: -5.769362\n",
      "p-value: 0.000001\n",
      "can reject\n",
      "Critical Values:\n",
      "\t1%: -3.438\n",
      "\t5%: -2.865\n",
      "\t10%: -2.568\n",
      "ADF Statistic: -10.496306\n",
      "p-value: 0.000000\n",
      "can reject\n",
      "Critical Values:\n",
      "\t1%: -3.438\n",
      "\t5%: -2.865\n",
      "\t10%: -2.568\n",
      "ADF Statistic: -9.487475\n",
      "p-value: 0.000000\n",
      "can reject\n",
      "Critical Values:\n",
      "\t1%: -3.438\n",
      "\t5%: -2.865\n",
      "\t10%: -2.569\n",
      "ADF Statistic: -1.792598\n",
      "p-value: 0.384143\n",
      "Critical Values:\n",
      "\t1%: -3.438\n",
      "\t5%: -2.865\n",
      "\t10%: -2.568\n",
      "ADF Statistic: -8.190604\n",
      "p-value: 0.000000\n",
      "can reject\n",
      "Critical Values:\n",
      "\t1%: -3.438\n",
      "\t5%: -2.865\n",
      "\t10%: -2.568\n",
      "adf_mean is: \n",
      "-5.251847068093162\n",
      "0.12940237327375137\n"
     ]
    }
   ],
   "source": [
    "from statsmodels.tsa.stattools import adfuller\n",
    "mean_adf = []\n",
    "mean_p = []\n",
    "\n",
    "for X in random_sample:\n",
    "    result = adfuller(X)\n",
    "    mean_adf.append(result[0])\n",
    "    print('ADF Statistic: %f' % result[0])\n",
    "    print('p-value: %f' % result[1])\n",
    "    mean_p.append(result[1])\n",
    "    if result[1] < 0.05:\n",
    "        print(\"can reject\")\n",
    "    print('Critical Values:')\n",
    "    for key, value in result[4].items():\n",
    "        print('\\t%s: %.3f' % (key, value))\n",
    "print(\"adf_mean is: \")\n",
    "print(np.mean(mean_adf))\n",
    "print(np.mean(mean_p))"
   ]
  },
  {
   "cell_type": "markdown",
   "metadata": {},
   "source": [
    "### Test for Autocorrelation"
   ]
  },
  {
   "cell_type": "code",
   "execution_count": 149,
   "metadata": {},
   "outputs": [],
   "source": [
    "from statsmodels.stats.stattools import durbin_watson\n",
    "from statsmodels.regression.linear_model import OLS\n",
    "\n",
    "\n",
    "def dw(data):\n",
    "    ols_res = OLS(data, np.ones(len(data))).fit()\n",
    "    return durbin_watson(ols_res.resid)\n",
    "\n",
    "\n"
   ]
  },
  {
   "cell_type": "code",
   "execution_count": 150,
   "metadata": {},
   "outputs": [
    {
     "name": "stdout",
     "output_type": "stream",
     "text": [
      "0.003688409230722523\n",
      "0.0043021785676638025\n",
      "0.0026408175792910086\n",
      "0.005433219415992558\n",
      "0.007866154975574462\n",
      "0.013891027934152466\n",
      "0.01863764535858785\n",
      "0.007475373934347384\n",
      "0.007053863412115282\n",
      "0.021451830778636098\n",
      "mean is: \n",
      "0.009244052118708343\n"
     ]
    }
   ],
   "source": [
    "mean = []\n",
    "for X in random_sample:\n",
    "    print(dw(X))\n",
    "    mean.append(dw(X))\n",
    "\n",
    "print(\"mean is: \")\n",
    "print(np.mean(mean))"
   ]
  },
  {
   "cell_type": "code",
   "execution_count": 151,
   "metadata": {},
   "outputs": [
    {
     "data": {
      "image/png": "[encoded data removed]",
      "text/plain": [
       "<Figure size 432x288 with 1 Axes>"
      ]
     },
     "metadata": {
      "needs_background": "light"
     },
     "output_type": "display_data"
    }
   ],
   "source": [
    "from pandas.plotting import autocorrelation_plot\n",
    "\n",
    "my_plot = autocorrelation_plot(random_sample[0])\n",
    "\n",
    "plt.show()"
   ]
  },
  {
   "cell_type": "markdown",
   "metadata": {},
   "source": [
    "## Matrix Profile Feature"
   ]
  },
  {
   "cell_type": "code",
   "execution_count": 152,
   "metadata": {},
   "outputs": [],
   "source": [
    "def new_discord_entropy(matrix_profile, window_size):\n",
    "    # size of time_series\n",
    "    time_series_size = len(matrix_profile)\n",
    "    \n",
    "    df_matrix_profile = pd.DataFrame()\n",
    "    df_matrix_profile['distances']= matrix_profile[:,0]\n",
    "    df_matrix_profile['index'] = matrix_profile[:,1]\n",
    "    \n",
    "    top_discords = df_matrix_profile.sort_values(by='distances')[0:10]\n",
    "\n",
    "    #top 10 discords\n",
    "    top_discord_windows = []\n",
    "    for x in top_discords['index']:\n",
    "        window = np.arange(x,x+window_size,1)\n",
    "        top_discord_windows.append(window)\n",
    "    overall_discord_window = set(np.concatenate(top_discord_windows))\n",
    "    discord_size = len(overall_discord_window)\n",
    "    discord_probability = discord_size/time_series_size\n",
    "\n",
    "\n",
    "    discord_entropy = -(discord_probability * np.log2(discord_probability))\n",
    "    \n",
    "    return discord_entropy\n",
    "    "
   ]
  },
  {
   "cell_type": "code",
   "execution_count": 153,
   "metadata": {},
   "outputs": [],
   "source": [
    "def new_motif_entropy(matrix_profile, window_size):\n",
    "    # size of time_series\n",
    "    time_series_size = len(matrix_profile)\n",
    "    \n",
    "    df_matrix_profile = pd.DataFrame()\n",
    "    df_matrix_profile['distances']= matrix_profile[:,0]\n",
    "    df_matrix_profile['index'] = matrix_profile[:,1]\n",
    "    \n",
    "    top_motifs = df_matrix_profile.sort_values(by='distances')[0:10]\n",
    "\n",
    "    # top 10 motifs \n",
    "    top_motif_windows = []\n",
    "    for x in top_motifs['index']:\n",
    "        window = np.arange(x,x+window_size,1)\n",
    "        top_motif_windows.append(window)\n",
    "    overall_motif_window = set(np.concatenate(top_motif_windows))\n",
    "    motif_size = len(overall_motif_window)\n",
    "    motif_probability = motif_size/time_series_size\n",
    "\n",
    "    motif_entropy = -(motif_probability * np.log2(motif_probability))\n",
    "    \n",
    "    return motif_entropy"
   ]
  },
  {
   "cell_type": "code",
   "execution_count": 154,
   "metadata": {},
   "outputs": [],
   "source": [
    "def motif_entropy(matrix_profile):\n",
    "    df_matrix_profile = pd.DataFrame()\n",
    "    df_matrix_profile['distances']= matrix_profile[:,0]\n",
    "    df_matrix_profile['index'] = matrix_profile[:,1]    \n",
    "    top_motifs = df_matrix_profile.sort_values(by='distances')[0:5]\n",
    "    entropy_motif = np.sum(np.asarray([x * np.log2(x+1) for x in top_motifs['distances']]))\n",
    "    \n",
    "    return entropy_motif"
   ]
  },
  {
   "cell_type": "code",
   "execution_count": 155,
   "metadata": {},
   "outputs": [],
   "source": [
    "def discord_entropy(matrix_profile):\n",
    "    df_matrix_profile = pd.DataFrame()\n",
    "    df_matrix_profile['distances']= matrix_profile[:,0]\n",
    "    df_matrix_profile['index'] = matrix_profile[:,1]\n",
    "    df_matrix_profile['index_left'] = matrix_profile[:,2]\n",
    "    df_matrix_profile['index_right'] = matrix_profile[:,3]\n",
    "    \n",
    "    top_discords = df_matrix_profile.sort_values(by='distances')[len(df_matrix_profile)-5:len(df_matrix_profile)] \n",
    "    entropy_discord = np.sum(np.asarray([x * np.log2(x+1) for x in top_discords['distances']]))\n",
    "    \n",
    "    return entropy_discord"
   ]
  },
  {
   "cell_type": "code",
   "execution_count": 156,
   "metadata": {},
   "outputs": [],
   "source": [
    "def distance_entropy(matrix_profile):\n",
    "    df_matrix_profile = pd.DataFrame()\n",
    "    df_matrix_profile['distances']= matrix_profile[:,0]\n",
    "    df_matrix_profile['index'] = matrix_profile[:,1]\n",
    "    df_matrix_profile['index_left'] = matrix_profile[:,2]\n",
    "    df_matrix_profile['index_right'] = matrix_profile[:,3]\n",
    "    \n",
    "    max_discord = max(df_matrix_profile['distances'])\n",
    "    entropy_distance = np.sum(np.asarray([x * np.log2(x) for x in df_matrix_profile['distances']]))\n",
    "    \n",
    "    return entropy_distance"
   ]
  },
  {
   "cell_type": "code",
   "execution_count": 157,
   "metadata": {},
   "outputs": [],
   "source": [
    "def calculate_matrix_profile(data, window_size):\n",
    "    time_series = np.array(data, dtype=float)\n",
    "    matrix_profile = stumpy.stump(time_series, m=window_size, ignore_trivial=True)    \n",
    "    return matrix_profile"
   ]
  },
  {
   "cell_type": "code",
   "execution_count": 158,
   "metadata": {},
   "outputs": [
    {
     "name": "stderr",
     "output_type": "stream",
     "text": [
      "A large number of values are smaller than 1e-05.\n",
      "For a self-join, try setting `ignore_trivial = True`.\n"
     ]
    }
   ],
   "source": [
    "import stumpy\n",
    "\n",
    "df_features = pd.DataFrame()\n",
    "df_features['normalised_training_mean'] = normalise([np.mean(x) for x in training_data_raw])\n",
    "df_features['normalised_training_std'] = normalise([np.std(x) for x in training_data_raw])\n",
    "\n",
    "window_size = 200\n",
    "matrix_profiles = [calculate_matrix_profile(x,window_size) for x in training_data_raw]"
   ]
  },
  {
   "cell_type": "code",
   "execution_count": 159,
   "metadata": {},
   "outputs": [],
   "source": [
    "df_features['new_motif_entropy'] = normalise([new_motif_entropy(x, window_size) for x in matrix_profiles])\n",
    "df_features['new_discord_entropy'] = normalise([new_discord_entropy(x, window_size) for x in matrix_profiles])\n",
    "df_features['motif_entropy'] = normalise([motif_entropy(x) for x in matrix_profiles])\n",
    "df_features['discord_entropy'] = normalise([discord_entropy(x) for x in matrix_profiles])\n",
    "#df_features['distance_entropy'] = normalise([distance_entropy(x) for x in matrix_profiles])"
   ]
  },
  {
   "cell_type": "code",
   "execution_count": 160,
   "metadata": {},
   "outputs": [],
   "source": [
    "entropy_feature_combinations = []\n",
    "\n",
    "entropy_feature_names = ['new_motif_entropy', 'new_discord_entropy', 'motif_entropy', 'discord_entropy']\n",
    "# singles\n",
    "entropy_feature_combinations.append(df_features.drop(['new_discord_entropy', 'motif_entropy', 'discord_entropy'],axis=1).values)\n",
    "entropy_feature_combinations.append(df_features.drop(['new_motif_entropy', 'motif_entropy', 'discord_entropy'],axis=1).values)\n",
    "entropy_feature_combinations.append(df_features.drop(['new_motif_entropy', 'new_discord_entropy', 'discord_entropy'],axis=1).values)\n",
    "entropy_feature_combinations.append(df_features.drop(['new_motif_entropy', 'new_discord_entropy', 'motif_entropy'],axis=1).values)\n",
    "\n",
    "\n"
   ]
  },
  {
   "cell_type": "code",
   "execution_count": 161,
   "metadata": {},
   "outputs": [],
   "source": [
    "accuracy_scores = []\n",
    "f1_scores = []\n",
    "\n",
    "for X in entropy_feature_combinations:\n",
    "    accuracy_scores.append(cross_val_score(clf, X, y, cv=5, scoring='accuracy'))\n",
    "    f1_scores.append(cross_val_score(clf, X, y, cv=5, scoring='f1_weighted'))"
   ]
  },
  {
   "cell_type": "code",
   "execution_count": 162,
   "metadata": {},
   "outputs": [
    {
     "data": {
      "text/plain": [
       "0.41430180180180176"
      ]
     },
     "execution_count": 162,
     "metadata": {},
     "output_type": "execute_result"
    }
   ],
   "source": [
    "np.mean(accuracy_scores)"
   ]
  },
  {
   "cell_type": "code",
   "execution_count": 163,
   "metadata": {},
   "outputs": [
    {
     "data": {
      "text/plain": [
       "0.35089398749757017"
      ]
     },
     "execution_count": 163,
     "metadata": {},
     "output_type": "execute_result"
    }
   ],
   "source": [
    "np.mean(f1_scores)"
   ]
  },
  {
   "cell_type": "code",
   "execution_count": 164,
   "metadata": {},
   "outputs": [
    {
     "name": "stdout",
     "output_type": "stream",
     "text": [
      "1: new_motif_entropy\n",
      "2: new_discord_entropy\n",
      "3: motif_entropy\n",
      "4: discord_entropy\n"
     ]
    },
    {
     "data": {
      "image/png": "[encoded data removed]",
      "text/plain": [
       "<Figure size 432x288 with 1 Axes>"
      ]
     },
     "metadata": {
      "needs_background": "light"
     },
     "output_type": "display_data"
    }
   ],
   "source": [
    "## Accuracy Plot\n",
    "from matplotlib.pyplot import boxplot\n",
    "\n",
    "box_plot = plt.subplots(1,1)\n",
    "box_fig, box_ax = box_plot\n",
    "box_ax.boxplot(accuracy_scores)\n",
    "#box_ax.set_xticklabels(feature_names)\n",
    "\n",
    "for x in range(1,len(entropy_feature_names)+1):\n",
    "    \n",
    "    print(str(x) + ': '+  str(entropy_feature_names[x - 1]))\n",
    "    \n"
   ]
  },
  {
   "cell_type": "code",
   "execution_count": 165,
   "metadata": {},
   "outputs": [
    {
     "name": "stdout",
     "output_type": "stream",
     "text": [
      "1: new_motif_entropy\n",
      "2: new_discord_entropy\n",
      "3: motif_entropy\n",
      "4: discord_entropy\n"
     ]
    },
    {
     "data": {
      "image/png": "[encoded data removed]",
      "text/plain": [
       "<Figure size 432x288 with 1 Axes>"
      ]
     },
     "metadata": {
      "needs_background": "light"
     },
     "output_type": "display_data"
    }
   ],
   "source": [
    "## F Plot\n",
    "from matplotlib.pyplot import boxplot\n",
    "\n",
    "box_plot = plt.subplots(1,1)\n",
    "box_fig, box_ax = box_plot\n",
    "box_ax.boxplot(f1_scores)\n",
    "#box_ax.set_xticklabels(feature_names)\n",
    "\n",
    "for x in range(1,len(entropy_feature_names)+1):\n",
    "    \n",
    "    print(str(x) + ': '+  str(entropy_feature_names[x - 1]))\n"
   ]
  },
  {
   "cell_type": "code",
   "execution_count": null,
   "metadata": {},
   "outputs": [],
   "source": []
  }
 ],
 "metadata": {
  "kernelspec": {
   "display_name": "Python 3",
   "language": "python",
   "name": "python3"
  },
  "language_info": {
   "codemirror_mode": {
    "name": "ipython",
    "version": 3
   },
   "file_extension": ".py",
   "mimetype": "text/x-python",
   "name": "python",
   "nbconvert_exporter": "python",
   "pygments_lexer": "ipython3",
   "version": "3.6.3"
  }
 },
 "nbformat": 4,
 "nbformat_minor": 2
}
